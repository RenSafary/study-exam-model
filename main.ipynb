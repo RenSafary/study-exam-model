{
 "cells": [
  {
   "cell_type": "code",
   "execution_count": 14,
   "metadata": {},
   "outputs": [],
   "source": [
    "import torch\n",
    "import torch.nn as nn\n",
    "import torch.optim as optim \n",
    "\n",
    "import pandas as pd"
   ]
  },
  {
   "cell_type": "code",
   "execution_count": 15,
   "metadata": {},
   "outputs": [],
   "source": [
    "data = pd.read_csv(\"./student_exam_data.csv\")\n",
    "\n",
    "data_np = data.to_numpy()\n",
    "tensor_data = torch.tensor(data_np).float()"
   ]
  },
  {
   "cell_type": "code",
   "execution_count": 16,
   "metadata": {},
   "outputs": [],
   "source": [
    "input_tensor = tensor_data[:, :-1].clone() # удаление последнего столбца с результатом экзамена для входного тензора\n",
    "output_tensor = tensor_data[:, 2:].clone() # удаление всех столбцом, кроме последнего с результатами ,для выходного тензора"
   ]
  },
  {
   "cell_type": "code",
   "execution_count": 17,
   "metadata": {},
   "outputs": [],
   "source": [
    "class StudyNet(nn.Module):\n",
    "    def __init__(self):\n",
    "        super(StudyNet, self).__init__()\n",
    "        self.layer1 = nn.Linear(2, 1)\n",
    "\n",
    "    def forward(self, x):\n",
    "        x = x.view(-1, 2)\n",
    "        x = self.layer1(x)\n",
    "        return x"
   ]
  },
  {
   "cell_type": "code",
   "execution_count": 18,
   "metadata": {},
   "outputs": [],
   "source": [
    "model = StudyNet()\n",
    "\n",
    "criterion = nn.MSELoss()\n",
    "optimizer = optim.SGD(model.parameters(), lr=0.0001)"
   ]
  },
  {
   "cell_type": "code",
   "execution_count": 19,
   "metadata": {},
   "outputs": [
    {
     "name": "stdout",
     "output_type": "stream",
     "text": [
      "Epoch: [10000/100000], Loss: 0.13851\n",
      "Epoch: [20000/100000], Loss: 0.13342\n",
      "Epoch: [30000/100000], Loss: 0.12920\n",
      "Epoch: [40000/100000], Loss: 0.12571\n",
      "Epoch: [50000/100000], Loss: 0.12281\n",
      "Epoch: [60000/100000], Loss: 0.12041\n",
      "Epoch: [70000/100000], Loss: 0.11843\n",
      "Epoch: [80000/100000], Loss: 0.11678\n",
      "Epoch: [90000/100000], Loss: 0.11542\n",
      "Epoch: [100000/100000], Loss: 0.11429\n",
      "\n",
      "Training's done\n"
     ]
    }
   ],
   "source": [
    "epochs = 100000\n",
    "\n",
    "for epoch in range(epochs):\n",
    "    optimizer.zero_grad()\n",
    "    prediction = model(input_tensor)\n",
    "    loss = criterion(prediction, output_tensor)\n",
    "    loss.backward()\n",
    "    optimizer.step()\n",
    "\n",
    "    if (epoch + 1) % 10000 == 0:\n",
    "        print(f\"Epoch: [{epoch + 1}/{epochs}], Loss: {loss.item():.5f}\")\n",
    "print(\"\\nОбучение окончено.\")"
   ]
  },
  {
   "cell_type": "code",
   "execution_count": 31,
   "metadata": {},
   "outputs": [
    {
     "name": "stdout",
     "output_type": "stream",
     "text": [
      "Экзамен сдан, 50%\n"
     ]
    }
   ],
   "source": [
    "# Study Hours, Previous Exam Score, Fail/Pass\n",
    "\n",
    "input_data = torch.FloatTensor([8, 56]).view(-1, 1)\n",
    "\n",
    "prediction = model(input_data)\n",
    "fail_or_pass = \"Экзамен сдан\" if prediction.item() >= 0.5 else \"Экзамен провален\"\n",
    "score = f\"{prediction.item() * 100.0:.0f}\"\n",
    "if int(score) < 0: score = 0\n",
    "elif int(score) > 100: score = 100\n",
    "\n",
    "print(f\"{fail_or_pass}, {score}%\")"
   ]
  }
 ],
 "metadata": {
  "kernelspec": {
   "display_name": "Python 3",
   "language": "python",
   "name": "python3"
  },
  "language_info": {
   "codemirror_mode": {
    "name": "ipython",
    "version": 3
   },
   "file_extension": ".py",
   "mimetype": "text/x-python",
   "name": "python",
   "nbconvert_exporter": "python",
   "pygments_lexer": "ipython3",
   "version": "3.11.1"
  }
 },
 "nbformat": 4,
 "nbformat_minor": 2
}
